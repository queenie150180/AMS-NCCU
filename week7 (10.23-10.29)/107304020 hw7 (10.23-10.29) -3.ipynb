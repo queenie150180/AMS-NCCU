{
 "cells": [
  {
   "cell_type": "code",
   "execution_count": 1,
   "metadata": {},
   "outputs": [
    {
     "name": "stdout",
     "output_type": "stream",
     "text": [
      "          *          \n",
      "         ***         \n",
      "        *****        \n",
      "       *******       \n",
      "      *********      \n",
      "     ***********     \n",
      "      *********      \n",
      "       *******       \n",
      "        *****        \n",
      "         ***         \n",
      "          *          \n"
     ]
    }
   ],
   "source": [
    "level = 6\n",
    "for i in range(level):\n",
    "    s = \"*\"*(2*i+1)\n",
    "    print(f\"{s:^21s}\")\n",
    "\n",
    "level_2 = 5\n",
    "for j in range(level_2):\n",
    "    s1 = \"*\"*(j+6+(-3)*(j-1))\n",
    "    print(f\"{s1:^21s}\")"
   ]
  },
  {
   "cell_type": "code",
   "execution_count": null,
   "metadata": {},
   "outputs": [],
   "source": []
  }
 ],
 "metadata": {
  "kernelspec": {
   "display_name": "Python 3",
   "language": "python",
   "name": "python3"
  },
  "language_info": {
   "codemirror_mode": {
    "name": "ipython",
    "version": 3
   },
   "file_extension": ".py",
   "mimetype": "text/x-python",
   "name": "python",
   "nbconvert_exporter": "python",
   "pygments_lexer": "ipython3",
   "version": "3.7.3"
  }
 },
 "nbformat": 4,
 "nbformat_minor": 2
}
