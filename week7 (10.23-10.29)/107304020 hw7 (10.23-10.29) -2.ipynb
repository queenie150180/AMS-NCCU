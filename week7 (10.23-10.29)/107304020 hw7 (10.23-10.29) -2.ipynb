{
 "cells": [
  {
   "cell_type": "code",
   "execution_count": 4,
   "metadata": {},
   "outputs": [
    {
     "name": "stdout",
     "output_type": "stream",
     "text": [
      "請輸入包裹重量(公斤):2\n",
      "70\n"
     ]
    }
   ],
   "source": [
    "a = input(\"請輸入包裹重量(公斤):\")\n",
    "a = float(a)\n",
    "if a<=5:\n",
    "    print(\"70\")\n",
    "elif 5<a<=10:\n",
    "    print(\"90\")\n",
    "elif 10<a<=15:\n",
    "    print(\"110\")\n",
    "elif 15<=a<20:\n",
    "    print(\"135\")\n",
    "else:\n",
    "    print(\"請重新輸入\")"
   ]
  },
  {
   "cell_type": "code",
   "execution_count": null,
   "metadata": {},
   "outputs": [],
   "source": []
  }
 ],
 "metadata": {
  "kernelspec": {
   "display_name": "Python 3",
   "language": "python",
   "name": "python3"
  },
  "language_info": {
   "codemirror_mode": {
    "name": "ipython",
    "version": 3
   },
   "file_extension": ".py",
   "mimetype": "text/x-python",
   "name": "python",
   "nbconvert_exporter": "python",
   "pygments_lexer": "ipython3",
   "version": "3.7.3"
  }
 },
 "nbformat": 4,
 "nbformat_minor": 2
}
