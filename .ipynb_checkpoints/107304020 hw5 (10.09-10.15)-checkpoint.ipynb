{
 "cells": [
  {
   "cell_type": "code",
   "execution_count": 2,
   "metadata": {},
   "outputs": [],
   "source": [
    "%matplotlib inline\n",
    "import numpy as np\n",
    "import matplotlib.pyplot as plt\n",
    "import pandas as pd"
   ]
  },
  {
   "cell_type": "markdown",
   "metadata": {},
   "source": [
    "### 作業一 印菱形"
   ]
  },
  {
   "cell_type": "code",
   "execution_count": 12,
   "metadata": {},
   "outputs": [
    {
     "name": "stdout",
     "output_type": "stream",
     "text": [
      "          $          \n",
      "         $$$         \n",
      "        $$$$$        \n",
      "       $$$$$$$       \n",
      "      $$$$$$$$$      \n",
      "     $$$$$$$$$$$     \n",
      "      $$$$$$$$$      \n",
      "       $$$$$$$       \n",
      "        $$$$$        \n",
      "         $$$         \n",
      "          $          \n"
     ]
    }
   ],
   "source": [
    "level = 6\n",
    "for i in range(level):\n",
    "    s = \"$\"*(2*i+1)\n",
    "    print(f\"{s:^21s}\")\n",
    "\n",
    "level_2 = 5\n",
    "for j in range(level_2):\n",
    "    s1 = \"$\"*(j+6+(-3)*(j-1))\n",
    "    print(f\"{s1:^21s}\")"
   ]
  },
  {
   "cell_type": "markdown",
   "metadata": {},
   "source": [
    "### 作業二 印法師帽"
   ]
  },
  {
   "cell_type": "code",
   "execution_count": 38,
   "metadata": {},
   "outputs": [
    {
     "name": "stdout",
     "output_type": "stream",
     "text": [
      "          \n",
      "         ★\n",
      "        ☆☆\n",
      "       ★★★\n",
      "      ☆☆☆☆\n",
      "     ★★★★★\n",
      "    ☆☆☆☆☆☆\n",
      "   ★★★★★★★\n",
      "  ☆☆☆☆☆☆☆☆\n",
      " ★★★★★★★★★\n"
     ]
    }
   ],
   "source": [
    "level_3 = 10\n",
    "for x in range(level_3):\n",
    "    if x%2 == 0:\n",
    "        s2 = (\"☆\"*x)\n",
    "        print(f\"{s2:>10s}\")\n",
    "    else:\n",
    "        s3 = (\"★\"*x)\n",
    "        print(f\"{s3:>10s}\")"
   ]
  },
  {
   "cell_type": "markdown",
   "metadata": {},
   "source": [
    "### 作業三 計算實際時薪(考量交通費以及通勤時間)"
   ]
  },
  {
   "cell_type": "code",
   "execution_count": 42,
   "metadata": {},
   "outputs": [
    {
     "name": "stdout",
     "output_type": "stream",
     "text": [
      "請輸入你的時薪: 150\n",
      "請輸入你一天的打工時數(小時): 8\n",
      "請輸入你到打工地點的交通費(單趟): 12\n",
      "請輸入你到打工地點的時間(分鐘/單趟): 20\n",
      "141.12\n"
     ]
    }
   ],
   "source": [
    "a = int(input(\"請輸入你的時薪: \"))\n",
    "b = float(input(\"請輸入你一天的打工時數(小時): \"))\n",
    "c = int(input(\"請輸入你到打工地點的交通費(單趟): \"))\n",
    "d = int(input(\"請輸入你到打工地點的時間(分鐘/單趟): \"))\n",
    "\n",
    "salary = a*b\n",
    "cost = c*2\n",
    "time = b+(d/60)\n",
    "real_salary = round(salary-cost)*100.0/(time*100.0)\n",
    "\n",
    "print(real_salary)"
   ]
  },
  {
   "cell_type": "markdown",
   "metadata": {},
   "source": [
    "### 作業四 超級簡易版查字典"
   ]
  },
  {
   "cell_type": "code",
   "execution_count": 53,
   "metadata": {},
   "outputs": [],
   "source": [
    "from ipywidgets import interact"
   ]
  },
  {
   "cell_type": "code",
   "execution_count": 58,
   "metadata": {},
   "outputs": [
    {
     "name": "stdout",
     "output_type": "stream",
     "text": [
      "請選擇要查詢的單字\n"
     ]
    },
    {
     "data": {
      "application/vnd.jupyter.widget-view+json": {
       "model_id": "c9bb1cd85da049689a1d2d3f692e87e6",
       "version_major": 2,
       "version_minor": 0
      },
      "text/plain": [
       "interactive(children=(Dropdown(description='Voc', options={'program': '(n.)程式', 'union': '(n.)聯合;工會', 'process…"
      ]
     },
     "metadata": {},
     "output_type": "display_data"
    }
   ],
   "source": [
    "def f(Voc):\n",
    "    print(Voc)\n",
    "\n",
    "print(\"請選擇要查詢的單字\")\n",
    "\n",
    "interact(f, Voc = {\n",
    "    \"program\":\"(n.)程式\",\n",
    "    \"union\":\"(n.)聯合;工會\",\n",
    "    \"process\":\"(n.)過程;(v.)處理\",\n",
    "    \"major\":\"(a.)主要的;(v.)主修\",\n",
    "    \"available\":\"(a.)可得到的\",\n",
    "    \"property\":\"(n.)財產;特性\",\n",
    "    \"permit\":\"(v.)(n.)准許\",\n",
    "    \"strength\":\"(n.)力氣;優點\",\n",
    "    \"factor\":\"(n.)因素\",\n",
    "    \"individual\":\"(n.)個體;(a.)個別的\",\n",
    "    \"diligent\":\"(a.)勤勉的\",\n",
    "    \"religion\":\"(n.)宗教\",\n",
    "    \"moral\":\"(a.)道德的;(n.)教訓\",\n",
    "    \"attempt\":\"(v.)(n.)企圖\",\n",
    "    \"due\":\"(a.)到期的;預定的\",\n",
    "    \"advantage\":\"(n.)優點;優勢\",\n",
    "    \"occasion\":\"(n.)特殊場合\",\n",
    "    \"admit\":\"(v.)承認\",\n",
    "    \"primary\":\"(a.)主要的;初級的\",\n",
    "    \"capital\":\"(n.)首都;大寫字母;資金 (a.)大寫的\",\n",
    "    \"沒有我想找的單字\":\"很抱歉，目前字彙量不足，我們會盡快改進的( ˘･з･)\"\n",
    "    \n",
    "});"
   ]
  },
  {
   "cell_type": "code",
   "execution_count": null,
   "metadata": {},
   "outputs": [],
   "source": []
  }
 ],
 "metadata": {
  "kernelspec": {
   "display_name": "Python 3",
   "language": "python",
   "name": "python3"
  },
  "language_info": {
   "codemirror_mode": {
    "name": "ipython",
    "version": 3
   },
   "file_extension": ".py",
   "mimetype": "text/x-python",
   "name": "python",
   "nbconvert_exporter": "python",
   "pygments_lexer": "ipython3",
   "version": "3.7.3"
  }
 },
 "nbformat": 4,
 "nbformat_minor": 2
}
