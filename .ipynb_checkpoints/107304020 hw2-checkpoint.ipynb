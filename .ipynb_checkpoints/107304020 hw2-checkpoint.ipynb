{
 "cells": [
  {
   "cell_type": "code",
   "execution_count": 1,
   "metadata": {},
   "outputs": [
    {
     "name": "stdout",
     "output_type": "stream",
     "text": [
      ">> 今天居然已經禮拜一了\n",
      "是一個禮拜新的開始阿(*´∀`)~♥ 拍拍\n",
      ">> 明天禮拜二不想上課\n",
      "加油已經過兩天了 拍拍\n",
      ">> 禮拜三是地獄最不想上課\n",
      "是早9到晚9的地獄阿 拍拍\n",
      ">> 禮拜四也是累成狗QAQ\n",
      "剩一天了 加油拍拍!!!\n",
      ">> 嗚嗚嗚終於禮拜五了\n",
      "放假了耶呼 \n",
      ">> 過完一個禮拜心累\n",
      "拍拍機器人給你滿滿能量\n"
     ]
    }
   ],
   "source": [
    "msg = \"拍拍\"\n",
    "\n",
    "while (msg != \"過完一個禮拜心累\"):\n",
    "    msg = input(\">> \")\n",
    "    if \"禮拜一\" in msg:\n",
    "        print(\"是一個禮拜新的開始阿(*´∀`)~♥ 拍拍\")\n",
    "    elif \"禮拜二\" in msg:\n",
    "        print(\"加油已經過兩天了 拍拍\")\n",
    "    elif \"禮拜三\" in msg:\n",
    "        print(\"是早9到晚9的地獄阿 拍拍\")\n",
    "    elif \"禮拜四\" in msg:\n",
    "        print(\"剩一天了 加油拍拍!!!\")\n",
    "    elif \"禮拜五\" in msg:\n",
    "        print(\"放假了耶呼 \")\n",
    "    else:\n",
    "        print(\"拍拍機器人給你滿滿能量\")"
   ]
  },
  {
   "cell_type": "code",
   "execution_count": 3,
   "metadata": {},
   "outputs": [],
   "source": [
    "from ipywidgets import interact"
   ]
  },
  {
   "cell_type": "code",
   "execution_count": 4,
   "metadata": {},
   "outputs": [],
   "source": [
    "def f(重量):\n",
    "    print(重量)"
   ]
  },
  {
   "cell_type": "code",
   "execution_count": 5,
   "metadata": {},
   "outputs": [
    {
     "name": "stdout",
     "output_type": "stream",
     "text": [
      "郵局同縣市互寄包裹費用\n"
     ]
    },
    {
     "data": {
      "application/vnd.jupyter.widget-view+json": {
       "model_id": "ab6cca1678084ac6a5a1247c1130295c",
       "version_major": 2,
       "version_minor": 0
      },
      "text/plain": [
       "interactive(children=(Dropdown(description='重量', options={'不逾5公斤': 70, '逾5公斤，不逾10公斤': 90, '逾10公斤，不逾15公斤': 110,…"
      ]
     },
     "metadata": {},
     "output_type": "display_data"
    }
   ],
   "source": [
    "print(\"郵局同縣市互寄包裹費用\")\n",
    "interact(f, 重量={\"不逾5公斤\":70, \"逾5公斤，不逾10公斤\":90, \"逾10公斤，不逾15公斤\":110, \"逾15公斤，不逾20公斤\":135});"
   ]
  },
  {
   "cell_type": "code",
   "execution_count": 6,
   "metadata": {
    "scrolled": true
   },
   "outputs": [
    {
     "name": "stdout",
     "output_type": "stream",
     "text": [
      "郵局不同縣市互寄包裹費用\n"
     ]
    },
    {
     "data": {
      "application/vnd.jupyter.widget-view+json": {
       "model_id": "54cb929921c241059437cd0a58ef047b",
       "version_major": 2,
       "version_minor": 0
      },
      "text/plain": [
       "interactive(children=(Dropdown(description='重量', options={'不逾5公斤': 80, '逾5公斤，不逾10公斤': 100, '逾10公斤，不逾15公斤': 120…"
      ]
     },
     "metadata": {},
     "output_type": "display_data"
    }
   ],
   "source": [
    "print(\"郵局不同縣市互寄包裹費用\")\n",
    "interact(f, 重量={\"不逾5公斤\":80, \"逾5公斤，不逾10公斤\":100, \"逾10公斤，不逾15公斤\":120, \"逾15公斤，不逾20公斤\":145});"
   ]
  },
  {
   "cell_type": "code",
   "execution_count": 19,
   "metadata": {},
   "outputs": [
    {
     "name": "stdout",
     "output_type": "stream",
     "text": [
      "請輸入包裹重量(公斤):5\n",
      "70\n"
     ]
    }
   ],
   "source": [
    "a = input(\"請輸入包裹重量(公斤):\")\n",
    "a = float(a)\n",
    "if a<=5:\n",
    "    print(\"70\")\n",
    "elif 5<a<=10:\n",
    "    print(\"90\")\n",
    "elif 10<a<=15:\n",
    "    print(\"110\")\n",
    "elif 15<=a<20:\n",
    "    print(\"135\")"
   ]
  },
  {
   "cell_type": "code",
   "execution_count": 54,
   "metadata": {},
   "outputs": [],
   "source": [
    "import math"
   ]
  },
  {
   "cell_type": "code",
   "execution_count": 60,
   "metadata": {},
   "outputs": [
    {
     "name": "stdout",
     "output_type": "stream",
     "text": [
      "X威列印費用\n",
      "請輸入列印張數:57\n",
      "$$: 28\n"
     ]
    }
   ],
   "source": [
    "print(\"X威列印費用\")\n",
    "\n",
    "a=input(\"請輸入列印張數:\")\n",
    "a=float(a)\n",
    "if a<10:\n",
    "    A=a*1\n",
    "    print(\"$$:\",A)\n",
    "elif 10<=a<50:\n",
    "    B=round(a*0.7)\n",
    "    print(\"$$:\",B)\n",
    "elif 50<=a:\n",
    "    C=round(a*0.5)\n",
    "    print(\"$$:\",C)\n",
    "elif a<0:\n",
    "    print(\"輸入錯誤，請重新輸入\")"
   ]
  },
  {
   "cell_type": "code",
   "execution_count": null,
   "metadata": {},
   "outputs": [],
   "source": []
  }
 ],
 "metadata": {
  "kernelspec": {
   "display_name": "Python 3",
   "language": "python",
   "name": "python3"
  },
  "language_info": {
   "codemirror_mode": {
    "name": "ipython",
    "version": 3
   },
   "file_extension": ".py",
   "mimetype": "text/x-python",
   "name": "python",
   "nbconvert_exporter": "python",
   "pygments_lexer": "ipython3",
   "version": "3.7.3"
  }
 },
 "nbformat": 4,
 "nbformat_minor": 2
}
