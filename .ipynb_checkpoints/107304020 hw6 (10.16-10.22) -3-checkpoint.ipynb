{
 "cells": [
  {
   "cell_type": "markdown",
   "metadata": {},
   "source": [
    "### 作業三 計算圓面積以及圓周長"
   ]
  },
  {
   "cell_type": "code",
   "execution_count": 9,
   "metadata": {},
   "outputs": [
    {
     "name": "stdout",
     "output_type": "stream",
     "text": [
      "請輸入圓半徑:4\n",
      "圓面積為: 50.264\n",
      "圓周長為: 25.132\n"
     ]
    }
   ],
   "source": [
    "PI = 3.1415\n",
    "input_1 = int(input(\"請輸入圓半徑:\"))\n",
    "area = PI*(input_1**2)\n",
    "long = 2*PI*input_1\n",
    "print(\"圓面積為:\",area)\n",
    "print(\"圓周長為:\",long)"
   ]
  },
  {
   "cell_type": "code",
   "execution_count": null,
   "metadata": {},
   "outputs": [],
   "source": []
  }
 ],
 "metadata": {
  "kernelspec": {
   "display_name": "Python 3",
   "language": "python",
   "name": "python3"
  },
  "language_info": {
   "codemirror_mode": {
    "name": "ipython",
    "version": 3
   },
   "file_extension": ".py",
   "mimetype": "text/x-python",
   "name": "python",
   "nbconvert_exporter": "python",
   "pygments_lexer": "ipython3",
   "version": "3.7.3"
  }
 },
 "nbformat": 4,
 "nbformat_minor": 2
}
