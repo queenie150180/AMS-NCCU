{
 "cells": [
  {
   "cell_type": "markdown",
   "metadata": {},
   "source": [
    "### 作業四 猜數字"
   ]
  },
  {
   "cell_type": "code",
   "execution_count": 1,
   "metadata": {},
   "outputs": [],
   "source": [
    "from numpy.random import randint"
   ]
  },
  {
   "cell_type": "code",
   "execution_count": 8,
   "metadata": {},
   "outputs": [
    {
     "name": "stdout",
     "output_type": "stream",
     "text": [
      "\u001b[7;32m 猜數字遊戲開始~ \u001b[0m\n",
      "請輸入一個數字:6\n",
      "太大囉\n",
      "請輸入一個數字:5\n",
      "答對了!!\n"
     ]
    }
   ],
   "source": [
    "print(\"\\033[7;32m 猜數字遊戲開始~ \\033[0m\")\n",
    "guess = int(input(\"請輸入一個數字:\"))\n",
    "answer = randint(1,11,1)\n",
    "while (guess != answer):\n",
    "    if guess > answer:\n",
    "        print(\"太大囉\")\n",
    "        guess = int(input(\"請輸入一個數字:\"))\n",
    "    elif guess < answer:\n",
    "        print(\"太小囉\")\n",
    "        guess = int(input(\"請輸入一個數字:\"))\n",
    "print(\"答對了!!\")\n",
    "    "
   ]
  },
  {
   "cell_type": "code",
   "execution_count": null,
   "metadata": {},
   "outputs": [],
   "source": []
  }
 ],
 "metadata": {
  "kernelspec": {
   "display_name": "Python 3",
   "language": "python",
   "name": "python3"
  },
  "language_info": {
   "codemirror_mode": {
    "name": "ipython",
    "version": 3
   },
   "file_extension": ".py",
   "mimetype": "text/x-python",
   "name": "python",
   "nbconvert_exporter": "python",
   "pygments_lexer": "ipython3",
   "version": "3.7.3"
  }
 },
 "nbformat": 4,
 "nbformat_minor": 2
}
