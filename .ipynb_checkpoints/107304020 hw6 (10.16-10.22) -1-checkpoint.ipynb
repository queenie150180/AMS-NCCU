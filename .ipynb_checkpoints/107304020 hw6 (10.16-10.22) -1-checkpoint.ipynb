{
 "cells": [
  {
   "cell_type": "markdown",
   "metadata": {},
   "source": [
    "### 作業一 計算 BMI"
   ]
  },
  {
   "cell_type": "code",
   "execution_count": 2,
   "metadata": {},
   "outputs": [
    {
     "name": "stdout",
     "output_type": "stream",
     "text": [
      "請輸入體重(kg):50\n",
      "請輸入身高(cm):166\n",
      "18.144868631151112\n",
      "體重過低\n"
     ]
    }
   ],
   "source": [
    "input_1 = int(input(\"請輸入體重(kg):\"))\n",
    "input_2 = int(input(\"請輸入身高(cm):\"))\n",
    "input_2 = input_2/100\n",
    "BMI = input_1/(input_2**2)\n",
    "print(BMI)\n",
    "\n",
    "if BMI < 18.5:\n",
    "    print(\"體重過低\")\n",
    "elif 18.5 <= BMI <= 23.9:\n",
    "    print(\"體重適中\")\n",
    "elif 24 <= BMI <= 27.9:\n",
    "    print(\"超重\")\n",
    "elif BMI >= 28:\n",
    "    print(\"肥胖\")"
   ]
  }
 ],
 "metadata": {
  "kernelspec": {
   "display_name": "Python 3",
   "language": "python",
   "name": "python3"
  },
  "language_info": {
   "codemirror_mode": {
    "name": "ipython",
    "version": 3
   },
   "file_extension": ".py",
   "mimetype": "text/x-python",
   "name": "python",
   "nbconvert_exporter": "python",
   "pygments_lexer": "ipython3",
   "version": "3.7.3"
  }
 },
 "nbformat": 4,
 "nbformat_minor": 2
}
