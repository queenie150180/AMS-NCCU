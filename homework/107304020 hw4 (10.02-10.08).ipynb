{
 "cells": [
  {
   "cell_type": "code",
   "execution_count": 1,
   "metadata": {},
   "outputs": [],
   "source": [
    "%matplotlib inline\n",
    "import numpy as np\n",
    "import matplotlib.pyplot as plt\n",
    "import pandas as pd"
   ]
  },
  {
   "cell_type": "markdown",
   "metadata": {},
   "source": [
    "### 作業一 電費估算"
   ]
  },
  {
   "cell_type": "code",
   "execution_count": 20,
   "metadata": {},
   "outputs": [],
   "source": [
    "import math"
   ]
  },
  {
   "cell_type": "code",
   "execution_count": 21,
   "metadata": {},
   "outputs": [
    {
     "name": "stdout",
     "output_type": "stream",
     "text": [
      "請輸入預估計之月份: 5\n",
      "請輸入用電度數: 144\n",
      "本月電費為: $ 302\n"
     ]
    }
   ],
   "source": [
    "input_1 = input(\"請輸入預估計之月份: \")\n",
    "\n",
    "summer = [\"6\",\"7\",\"8\",\"9\"]\n",
    "others = [\"1\",\"2\",\"3\",\"4\",\"5\",\"10\",\"11\",\"12\"]\n",
    "\n",
    "if input_1 in summer:\n",
    "    \n",
    "    input_2 = input(\"請輸入用電度數: \")\n",
    "    input_2 = int(input_2)\n",
    "    \n",
    "    if input_2 <= 120:\n",
    "        print(\"本月電費為: $\",round(input_2*1.63))\n",
    "    elif 121 <= input_2 <= 330:\n",
    "        print(\"本月電費為: $\",round(input_2*2.38))\n",
    "    elif 331 <= input_2 <= 500:\n",
    "        print(\"本月電費為: $\",round(input_2*3.52))\n",
    "    elif 501 <= input_2 <= 700:\n",
    "        print(\"本月電費為: $\",round(input_2*4.61))\n",
    "    elif 701 <= input_2 <= 1000:\n",
    "        print(\"本月電費為: $\",round(input_2*5.42))\n",
    "    elif 1001 <= input_2:\n",
    "        print(\"本月電費為: $\",round(input_2*6.13))\n",
    "            \n",
    "elif input_1 in others:\n",
    "    \n",
    "    input_2 = input(\"請輸入用電度數: \")\n",
    "    input_2 = int(input_2)\n",
    "    \n",
    "    if input_2 <= 120:\n",
    "        print(\"本月電費為: $\",round(input_2*1.63))\n",
    "    elif 121 <= input_2 <= 330:\n",
    "        print(\"本月電費為: $\",round(input_2*2.10))\n",
    "    elif 331 <= input_2 <= 500:\n",
    "        print(\"本月電費為: $\",round(input_2*2.89))\n",
    "    elif 501 <= input_2 <= 700:\n",
    "        print(\"本月電費為: $\",round(input_2*3.79))\n",
    "    elif 701 <= input_2 <= 1000:\n",
    "        print(\"本月電費為: $\",round(input_2*4.42))\n",
    "    elif 1001 <= input_2:\n",
    "        print(\"本月電費為: $\",round(input_2*4.83))\n",
    "        \n",
    "else:\n",
    "    print(\"輸入錯誤，請重新輸入\")"
   ]
  },
  {
   "cell_type": "markdown",
   "metadata": {},
   "source": [
    "### 作業二  心理測驗"
   ]
  },
  {
   "cell_type": "code",
   "execution_count": 1,
   "metadata": {},
   "outputs": [],
   "source": [
    "from ipywidgets import interact_manual"
   ]
  },
  {
   "cell_type": "code",
   "execution_count": 2,
   "metadata": {},
   "outputs": [],
   "source": [
    "def f(x):\n",
    "    print(x)"
   ]
  },
  {
   "cell_type": "code",
   "execution_count": 3,
   "metadata": {},
   "outputs": [
    {
     "name": "stdout",
     "output_type": "stream",
     "text": [
      "有天走在街上，突然有個人叫住你\n",
      "說了些聽不懂的話，接著拿出一副撲克牌\n",
      "抽了一張給你，你覺得這張牌會是哪一種花色？\n"
     ]
    },
    {
     "data": {
      "application/vnd.jupyter.widget-view+json": {
       "model_id": "326531cfb40f4f94b303aa5c009f6544",
       "version_major": 2,
       "version_minor": 0
      },
      "text/plain": [
       "interactive(children=(Dropdown(description='x', options={'紅心': '另一半或許比你年長，溫柔且有魅力，有可能是巨蟹、摩羯、雙魚座。', '方塊': '另一半應該…"
      ]
     },
     "metadata": {},
     "output_type": "display_data"
    }
   ],
   "source": [
    "print(\"有天走在街上，突然有個人叫住你\\n\"\n",
    "      \"說了些聽不懂的話，接著拿出一副撲克牌\\n\"\n",
    "      \"抽了一張給你，你覺得這張牌會是哪一種花色？\")\n",
    "\n",
    "interact_manual(f, x = {\n",
    "    \"紅心\":\"另一半或許比你年長，溫柔且有魅力，有可能是巨蟹、摩羯、雙魚座。\",\n",
    "    \"方塊\":\"另一半應該是木訥型的，忠誠度百分之百，較有緣的星座是金牛、天蠍、處女座。\",\n",
    "    \"黑桃\":\"另一半或許年紀較小，幽默樂觀，依賴性較強。很可能是射手、水瓶、雙子座。\",\n",
    "    \"梅花\":\"另一半比較活潑外向、運動型，喜歡新鮮刺激，不會強迫你做不喜歡的事。可能是白羊、獅子、天秤座。\"\n",
    "    \n",
    "});"
   ]
  },
  {
   "cell_type": "markdown",
   "metadata": {},
   "source": [
    "### 作業三 依使用者需求取數字"
   ]
  },
  {
   "cell_type": "code",
   "execution_count": 8,
   "metadata": {},
   "outputs": [],
   "source": [
    "from numpy.random import randint"
   ]
  },
  {
   "cell_type": "code",
   "execution_count": 38,
   "metadata": {},
   "outputs": [
    {
     "name": "stdout",
     "output_type": "stream",
     "text": [
      "請輸入要取幾個數字: 5\n",
      "請輸入要從什麼數字開始取: 1\n",
      "請輸入要取到什麼數字: 100\n",
      "14  52  69  99  20  "
     ]
    }
   ],
   "source": [
    "input_3 = int(input(\"請輸入要取幾個數字: \"))\n",
    "input_4 = int(input(\"請輸入要從什麼數字開始取: \"))\n",
    "input_5 = int(input(\"請輸入要取到什麼數字: \"))\n",
    "\n",
    "for i in range(input_3):\n",
    "    print(randint(input_4,input_5), end =\"  \")"
   ]
  },
  {
   "cell_type": "markdown",
   "metadata": {},
   "source": [
    "### 作業四 隨機造句"
   ]
  },
  {
   "cell_type": "markdown",
   "metadata": {},
   "source": [
    "#### (參考自第三週 民族四 鍾宛伶 的作業)"
   ]
  },
  {
   "cell_type": "code",
   "execution_count": 39,
   "metadata": {},
   "outputs": [],
   "source": [
    "import random"
   ]
  },
  {
   "cell_type": "code",
   "execution_count": 44,
   "metadata": {},
   "outputs": [
    {
     "name": "stdout",
     "output_type": "stream",
     "text": [
      "小黃 在 蔣公銅像 唱rap\n"
     ]
    }
   ],
   "source": [
    "subject = [\"我\",\"你\",\"小熊維尼\",\"胖虎\",\"嘟嘟嘟嘟Dora\",\"學霸\",\"角落生物\",\"小黃\"]\n",
    "verb = [\"吃飯\",\"拉屎\",\"打程式\",\"寫數學\",\"考指考\",\"打呼\",\"睡覺\",\"跳舞\",\"唱rap\"]\n",
    "place = [\"總圖\",\"體育館\",\"公車站\",\"貓空\",\"大汗\",\"森林\",\"天空\",\"外太空\",\"夜店\",\"蔣公銅像\"]\n",
    "\n",
    "a = random.choice(subject)\n",
    "b = random.choice(place)\n",
    "c = random.choice(verb)\n",
    "\n",
    "print(a,\"在\",b,c)"
   ]
  },
  {
   "cell_type": "code",
   "execution_count": null,
   "metadata": {},
   "outputs": [],
   "source": []
  }
 ],
 "metadata": {
  "kernelspec": {
   "display_name": "Python 3",
   "language": "python",
   "name": "python3"
  },
  "language_info": {
   "codemirror_mode": {
    "name": "ipython",
    "version": 3
   },
   "file_extension": ".py",
   "mimetype": "text/x-python",
   "name": "python",
   "nbconvert_exporter": "python",
   "pygments_lexer": "ipython3",
   "version": "3.7.3"
  }
 },
 "nbformat": 4,
 "nbformat_minor": 2
}
