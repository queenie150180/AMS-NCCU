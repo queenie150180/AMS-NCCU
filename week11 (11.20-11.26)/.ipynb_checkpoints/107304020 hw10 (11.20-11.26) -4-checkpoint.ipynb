{
 "cells": [
  {
   "cell_type": "code",
   "execution_count": 2,
   "metadata": {},
   "outputs": [
    {
     "name": "stdout",
     "output_type": "stream",
     "text": [
      "請輸入二個正整數：20 16\n",
      "GCD是 4\n"
     ]
    }
   ],
   "source": [
    "a, b = input('請輸入二個正整數：').split()\n",
    "a = int(a)\n",
    "b = int(b)\n",
    "\n",
    "if a < b:\n",
    "    a, b = b, a\n",
    "\n",
    "r = a % b\n",
    "\n",
    "while r != 0:\n",
    "    a = b\n",
    "    b = r\n",
    "    r = a % b\n",
    "\n",
    "print('GCD是 ' + str(b))"
   ]
  },
  {
   "cell_type": "code",
   "execution_count": null,
   "metadata": {},
   "outputs": [],
   "source": []
  }
 ],
 "metadata": {
  "kernelspec": {
   "display_name": "Python 3",
   "language": "python",
   "name": "python3"
  },
  "language_info": {
   "codemirror_mode": {
    "name": "ipython",
    "version": 3
   },
   "file_extension": ".py",
   "mimetype": "text/x-python",
   "name": "python",
   "nbconvert_exporter": "python",
   "pygments_lexer": "ipython3",
   "version": "3.7.3"
  }
 },
 "nbformat": 4,
 "nbformat_minor": 2
}
