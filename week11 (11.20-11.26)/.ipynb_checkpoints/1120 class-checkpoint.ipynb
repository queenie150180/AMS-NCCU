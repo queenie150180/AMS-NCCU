{
 "cells": [
  {
   "cell_type": "code",
   "execution_count": 5,
   "metadata": {},
   "outputs": [],
   "source": [
    "%matplotlib inline\n",
    "import numpy as np\n",
    "import matplotlib.pyplot as plt\n",
    "import pandas as pd"
   ]
  },
  {
   "cell_type": "markdown",
   "metadata": {},
   "source": [
    "## 模擬版資料做SVM"
   ]
  },
  {
   "cell_type": "code",
   "execution_count": 6,
   "metadata": {},
   "outputs": [],
   "source": [
    "x = np.array([[6, 6], [10, 8], [3, 7], [8, 7]])"
   ]
  },
  {
   "cell_type": "code",
   "execution_count": 7,
   "metadata": {},
   "outputs": [
    {
     "data": {
      "text/plain": [
       "array([[ 6,  6],\n",
       "       [10,  8],\n",
       "       [ 3,  7],\n",
       "       [ 8,  7]])"
      ]
     },
     "execution_count": 7,
     "metadata": {},
     "output_type": "execute_result"
    }
   ],
   "source": [
    "x"
   ]
  },
  {
   "cell_type": "code",
   "execution_count": 8,
   "metadata": {},
   "outputs": [
    {
     "data": {
      "text/plain": [
       "array([ 6, 10,  3,  8])"
      ]
     },
     "execution_count": 8,
     "metadata": {},
     "output_type": "execute_result"
    }
   ],
   "source": [
    "x[:, 0] ###取每一列，第0行"
   ]
  },
  {
   "cell_type": "code",
   "execution_count": 9,
   "metadata": {},
   "outputs": [
    {
     "data": {
      "text/plain": [
       "<matplotlib.collections.PathCollection at 0x249180e7b70>"
      ]
     },
     "execution_count": 9,
     "metadata": {},
     "output_type": "execute_result"
    },
    {
     "data": {
      "image/png": "[encoded data removed]",
      "text/plain": [
       "<Figure size 432x288 with 1 Axes>"
      ]
     },
     "metadata": {
      "needs_background": "light"
     },
     "output_type": "display_data"
    }
   ],
   "source": [
    "plt.scatter(x[:,0], x[:,1])"
   ]
  },
  {
   "cell_type": "code",
   "execution_count": 10,
   "metadata": {},
   "outputs": [],
   "source": [
    "y = np.array([1, 2, 1, 2])"
   ]
  },
  {
   "cell_type": "code",
   "execution_count": 11,
   "metadata": {},
   "outputs": [
    {
     "data": {
      "text/plain": [
       "<matplotlib.collections.PathCollection at 0x249181b3240>"
      ]
     },
     "execution_count": 11,
     "metadata": {},
     "output_type": "execute_result"
    },
    {
     "data": {
      "image/png": "[encoded data removed]",
      "text/plain": [
       "<Figure size 432x288 with 1 Axes>"
      ]
     },
     "metadata": {
      "needs_background": "light"
     },
     "output_type": "display_data"
    }
   ],
   "source": [
    "plt.scatter(x[:,0], x[:,1], c=y, cmap=\"Paired\")"
   ]
  },
  {
   "cell_type": "code",
   "execution_count": 12,
   "metadata": {},
   "outputs": [
    {
     "data": {
      "text/plain": [
       "<matplotlib.collections.PathCollection at 0x24918228198>"
      ]
     },
     "execution_count": 12,
     "metadata": {},
     "output_type": "execute_result"
    },
    {
     "data": {
      "image/png": "[encoded data removed]",
      "text/plain": [
       "<Figure size 432x288 with 1 Axes>"
      ]
     },
     "metadata": {
      "needs_background": "light"
     },
     "output_type": "display_data"
    }
   ],
   "source": [
    "plt.scatter(x[:,0], x[:,1], c=y, cmap=\"Set2\", s=100)"
   ]
  },
  {
   "cell_type": "markdown",
   "metadata": {},
   "source": [
    "## Step1. 打開函數學習機"
   ]
  },
  {
   "cell_type": "code",
   "execution_count": 13,
   "metadata": {},
   "outputs": [],
   "source": [
    "from sklearn.svm import SVC"
   ]
  },
  {
   "cell_type": "code",
   "execution_count": 14,
   "metadata": {},
   "outputs": [],
   "source": [
    "clf = SVC(gamma=\"auto\")"
   ]
  },
  {
   "cell_type": "markdown",
   "metadata": {},
   "source": [
    "## Step2. 學習"
   ]
  },
  {
   "cell_type": "code",
   "execution_count": 15,
   "metadata": {},
   "outputs": [
    {
     "data": {
      "text/plain": [
       "SVC(C=1.0, cache_size=200, class_weight=None, coef0=0.0,\n",
       "    decision_function_shape='ovr', degree=3, gamma='auto', kernel='rbf',\n",
       "    max_iter=-1, probability=False, random_state=None, shrinking=True,\n",
       "    tol=0.001, verbose=False)"
      ]
     },
     "execution_count": 15,
     "metadata": {},
     "output_type": "execute_result"
    }
   ],
   "source": [
    "clf.fit(x, y)"
   ]
  },
  {
   "cell_type": "markdown",
   "metadata": {},
   "source": [
    "## Step3.預測"
   ]
  },
  {
   "cell_type": "code",
   "execution_count": 16,
   "metadata": {},
   "outputs": [],
   "source": [
    "y_predict = clf.predict(x)"
   ]
  },
  {
   "cell_type": "code",
   "execution_count": 17,
   "metadata": {},
   "outputs": [
    {
     "data": {
      "text/plain": [
       "array([1, 2, 1, 2])"
      ]
     },
     "execution_count": 17,
     "metadata": {},
     "output_type": "execute_result"
    }
   ],
   "source": [
    "y_predict"
   ]
  },
  {
   "cell_type": "code",
   "execution_count": 18,
   "metadata": {},
   "outputs": [
    {
     "data": {
      "text/plain": [
       "array([1, 2, 1, 2])"
      ]
     },
     "execution_count": 18,
     "metadata": {},
     "output_type": "execute_result"
    }
   ],
   "source": [
    "y"
   ]
  },
  {
   "cell_type": "code",
   "execution_count": 19,
   "metadata": {},
   "outputs": [],
   "source": [
    "xr = np.random.rand(100)*7 + 3 ##x範圍:3~10\n",
    "yr = np.random.rand(100)*2 + 6 ##y範圍:6~8"
   ]
  },
  {
   "cell_type": "code",
   "execution_count": 20,
   "metadata": {},
   "outputs": [
    {
     "data": {
      "text/plain": [
       "array([5.61498161, 4.3419501 , 3.85411314, 7.65258535, 7.33836785,\n",
       "       6.5219126 , 6.4977902 , 5.56099657, 7.16882864, 4.18828821,\n",
       "       9.76635189, 7.52997584, 5.89894024, 8.18185935, 8.0467767 ,\n",
       "       9.49727087, 4.11371524, 6.00150619, 5.72894533, 6.7875305 ,\n",
       "       4.22789851, 9.12003389, 3.6944592 , 8.50039856, 8.90174667,\n",
       "       9.51384718, 9.86619442, 6.1042206 , 5.81313412, 3.21362283,\n",
       "       3.76957322, 4.69265691, 8.93304523, 8.87164122, 7.30722088,\n",
       "       4.1545066 , 5.73221178, 8.70854414, 3.44991277, 5.00487762,\n",
       "       5.62502095, 6.19632657, 4.28445735, 6.86544153, 3.9587609 ,\n",
       "       9.91181732, 5.52831026, 9.08343601, 7.75314091, 3.9268395 ,\n",
       "       8.16804217, 6.82877582, 3.2865898 , 4.22285404, 8.09996209,\n",
       "       9.61351757, 4.5137641 , 4.49157524, 4.45998395, 4.92155437,\n",
       "       3.00845829, 8.99828148, 4.71815426, 5.07561629, 8.58752098,\n",
       "       7.64985168, 9.52494315, 3.65748995, 6.7191456 , 9.03543236,\n",
       "       9.32696231, 7.78050858, 3.24335485, 7.03052983, 4.85287782,\n",
       "       5.85433505, 3.633757  , 6.56359453, 4.30889177, 9.91340366,\n",
       "       8.1180471 , 5.79288958, 6.9271883 , 3.98484486, 8.78374808,\n",
       "       9.05328733, 3.85997151, 3.30222905, 9.2534389 , 5.22898319,\n",
       "       9.80095408, 3.34591989, 7.73634659, 5.11308011, 3.68131996,\n",
       "       4.82479225, 5.12857557, 6.75038084, 7.58015977, 9.06514485])"
      ]
     },
     "execution_count": 20,
     "metadata": {},
     "output_type": "execute_result"
    }
   ],
   "source": [
    "xr"
   ]
  },
  {
   "cell_type": "code",
   "execution_count": 21,
   "metadata": {},
   "outputs": [
    {
     "data": {
      "text/plain": [
       "<matplotlib.collections.PathCollection at 0x24918298358>"
      ]
     },
     "execution_count": 21,
     "metadata": {},
     "output_type": "execute_result"
    },
    {
     "data": {
      "image/png": "[encoded data removed]",
      "text/plain": [
       "<Figure size 432x288 with 1 Axes>"
      ]
     },
     "metadata": {
      "needs_background": "light"
     },
     "output_type": "display_data"
    }
   ],
   "source": [
    "plt.scatter(xr, yr)"
   ]
  },
  {
   "cell_type": "code",
   "execution_count": 22,
   "metadata": {},
   "outputs": [
    {
     "data": {
      "text/plain": [
       "<matplotlib.collections.PathCollection at 0x249183066d8>"
      ]
     },
     "execution_count": 22,
     "metadata": {},
     "output_type": "execute_result"
    },
    {
     "data": {
      "image/png": "[encoded data removed]",
      "text/plain": [
       "<Figure size 432x288 with 1 Axes>"
      ]
     },
     "metadata": {
      "needs_background": "light"
     },
     "output_type": "display_data"
    }
   ],
   "source": [
    "plt.scatter(xr, yr)\n",
    "plt.scatter(x[:,0], x[:,1], c=y, cmap=\"Paired\", s=100)"
   ]
  },
  {
   "cell_type": "code",
   "execution_count": 23,
   "metadata": {},
   "outputs": [
    {
     "name": "stdout",
     "output_type": "stream",
     "text": [
      "X [5.61498161 4.3419501  3.85411314 7.65258535 7.33836785]\n",
      "Y [7.00941134 7.12867116 7.64715412 7.03854468 7.24493716]\n"
     ]
    }
   ],
   "source": [
    "print(\"X\", xr[:5])\n",
    "print(\"Y\", yr[:5])"
   ]
  },
  {
   "cell_type": "code",
   "execution_count": 24,
   "metadata": {},
   "outputs": [
    {
     "data": {
      "text/plain": [
       "array([[5.61498161, 7.00941134],\n",
       "       [4.3419501 , 7.12867116],\n",
       "       [3.85411314, 7.64715412],\n",
       "       [7.65258535, 7.03854468],\n",
       "       [7.33836785, 7.24493716],\n",
       "       [6.5219126 , 6.15201888],\n",
       "       [6.4977902 , 7.50699642],\n",
       "       [5.56099657, 7.0616942 ],\n",
       "       [7.16882864, 7.96811652],\n",
       "       [4.18828821, 7.43921748],\n",
       "       [9.76635189, 6.35012196],\n",
       "       [7.52997584, 6.44548275],\n",
       "       [5.89894024, 6.0159253 ],\n",
       "       [8.18185935, 7.29299119],\n",
       "       [8.0467767 , 6.87268225],\n",
       "       [9.49727087, 6.30351124],\n",
       "       [4.11371524, 7.93055006],\n",
       "       [6.00150619, 7.88826139],\n",
       "       [5.72894533, 6.34916235],\n",
       "       [6.7875305 , 6.56094792],\n",
       "       [4.22789851, 7.27221226],\n",
       "       [9.12003389, 7.3886721 ],\n",
       "       [3.6944592 , 6.71603499],\n",
       "       [8.50039856, 6.15082166],\n",
       "       [8.90174667, 6.43232734],\n",
       "       [9.51384718, 6.55843372],\n",
       "       [9.86619442, 6.70732414],\n",
       "       [6.1042206 , 6.16148106],\n",
       "       [5.81313412, 7.04419163],\n",
       "       [3.21362283, 7.87112337],\n",
       "       [3.76957322, 7.06576042],\n",
       "       [4.69265691, 7.73904949],\n",
       "       [8.93304523, 6.5359089 ],\n",
       "       [8.87164122, 6.110351  ],\n",
       "       [7.30722088, 6.21335861],\n",
       "       [4.1545066 , 6.96684063],\n",
       "       [5.73221178, 7.69506372],\n",
       "       [8.70854414, 6.95100157],\n",
       "       [3.44991277, 6.63817403],\n",
       "       [5.00487762, 7.42514949],\n",
       "       [5.62502095, 7.22948764],\n",
       "       [6.19632657, 6.04018964],\n",
       "       [4.28445735, 7.6326337 ],\n",
       "       [6.86544153, 7.5371159 ],\n",
       "       [3.9587609 , 6.41786328],\n",
       "       [9.91181732, 6.28980595],\n",
       "       [5.52831026, 6.64897541],\n",
       "       [9.08343601, 7.02119972],\n",
       "       [7.75314091, 7.53795758],\n",
       "       [3.9268395 , 6.74144559],\n",
       "       [8.16804217, 6.86406287],\n",
       "       [6.82877582, 7.19877341],\n",
       "       [3.2865898 , 7.79337353],\n",
       "       [4.22285404, 6.12824304],\n",
       "       [8.09996209, 7.97257499],\n",
       "       [9.61351757, 6.46837163],\n",
       "       [4.5137641 , 7.82737464],\n",
       "       [4.49157524, 6.2177296 ],\n",
       "       [4.45998395, 6.14322278],\n",
       "       [4.92155437, 7.52702   ],\n",
       "       [3.00845829, 7.91208548],\n",
       "       [8.99828148, 7.68983338],\n",
       "       [4.71815426, 6.73868763],\n",
       "       [5.07561629, 6.34121759],\n",
       "       [8.58752098, 6.81451448],\n",
       "       [7.64985168, 6.88779564],\n",
       "       [9.52494315, 7.78555644],\n",
       "       [3.65748995, 7.25636695],\n",
       "       [6.7191456 , 7.60709767],\n",
       "       [9.03543236, 7.01773185],\n",
       "       [9.32696231, 6.95664211],\n",
       "       [7.78050858, 6.84311982],\n",
       "       [3.24335485, 6.34713256],\n",
       "       [7.03052983, 6.17894113],\n",
       "       [4.85287782, 6.51163841],\n",
       "       [5.85433505, 6.00181121],\n",
       "       [3.633757  , 6.69585622],\n",
       "       [6.56359453, 7.73332678],\n",
       "       [4.30889177, 7.3414701 ],\n",
       "       [9.91340366, 6.76780791],\n",
       "       [8.1180471 , 6.17976345],\n",
       "       [5.79288958, 7.5952031 ],\n",
       "       [6.9271883 , 6.96906482],\n",
       "       [3.98484486, 7.08524082],\n",
       "       [8.78374808, 7.50383624],\n",
       "       [9.05328733, 6.62393868],\n",
       "       [3.85997151, 6.19737944],\n",
       "       [3.30222905, 7.34273871],\n",
       "       [9.2534389 , 7.17642216],\n",
       "       [5.22898319, 7.65789843],\n",
       "       [9.80095408, 6.16182528],\n",
       "       [3.34591989, 6.25420111],\n",
       "       [7.73634659, 6.01712996],\n",
       "       [5.11308011, 7.04385192],\n",
       "       [3.68131996, 7.03428004],\n",
       "       [4.82479225, 6.16044809],\n",
       "       [5.12857557, 6.08584922],\n",
       "       [6.75038084, 6.76834631],\n",
       "       [7.58015977, 6.58989619],\n",
       "       [9.06514485, 7.01440972]])"
      ]
     },
     "execution_count": 24,
     "metadata": {},
     "output_type": "execute_result"
    }
   ],
   "source": [
    "np.c_[xr, yr]"
   ]
  },
  {
   "cell_type": "code",
   "execution_count": 25,
   "metadata": {},
   "outputs": [],
   "source": [
    "X = np.c_[xr, yr]"
   ]
  },
  {
   "cell_type": "code",
   "execution_count": 26,
   "metadata": {},
   "outputs": [],
   "source": [
    "Y = clf.predict(X)"
   ]
  },
  {
   "cell_type": "code",
   "execution_count": 27,
   "metadata": {},
   "outputs": [
    {
     "data": {
      "text/plain": [
       "<matplotlib.collections.PathCollection at 0x24918369400>"
      ]
     },
     "execution_count": 27,
     "metadata": {},
     "output_type": "execute_result"
    },
    {
     "data": {
      "image/png": "[encoded data removed]",
      "text/plain": [
       "<Figure size 432x288 with 1 Axes>"
      ]
     },
     "metadata": {
      "needs_background": "light"
     },
     "output_type": "display_data"
    }
   ],
   "source": [
    "plt.scatter(x[:,0], x[:,1], c=y, cmap=\"Paired\", s=100)\n",
    "plt.scatter(X[:,0], X[:,1], c=Y, cmap=\"Paired\")"
   ]
  },
  {
   "cell_type": "markdown",
   "metadata": {},
   "source": [
    "### 結果呈現"
   ]
  },
  {
   "cell_type": "code",
   "execution_count": 28,
   "metadata": {},
   "outputs": [],
   "source": [
    "x_list = np.linspace(3, 10, 50)\n",
    "y_list = np.linspace(6, 8, 50)"
   ]
  },
  {
   "cell_type": "code",
   "execution_count": 29,
   "metadata": {},
   "outputs": [],
   "source": [
    "X = np.c_[x_list, y_list]"
   ]
  },
  {
   "cell_type": "code",
   "execution_count": 30,
   "metadata": {},
   "outputs": [
    {
     "data": {
      "text/plain": [
       "array([[ 3.        ,  6.        ],\n",
       "       [ 3.14285714,  6.04081633],\n",
       "       [ 3.28571429,  6.08163265],\n",
       "       [ 3.42857143,  6.12244898],\n",
       "       [ 3.57142857,  6.16326531],\n",
       "       [ 3.71428571,  6.20408163],\n",
       "       [ 3.85714286,  6.24489796],\n",
       "       [ 4.        ,  6.28571429],\n",
       "       [ 4.14285714,  6.32653061],\n",
       "       [ 4.28571429,  6.36734694],\n",
       "       [ 4.42857143,  6.40816327],\n",
       "       [ 4.57142857,  6.44897959],\n",
       "       [ 4.71428571,  6.48979592],\n",
       "       [ 4.85714286,  6.53061224],\n",
       "       [ 5.        ,  6.57142857],\n",
       "       [ 5.14285714,  6.6122449 ],\n",
       "       [ 5.28571429,  6.65306122],\n",
       "       [ 5.42857143,  6.69387755],\n",
       "       [ 5.57142857,  6.73469388],\n",
       "       [ 5.71428571,  6.7755102 ],\n",
       "       [ 5.85714286,  6.81632653],\n",
       "       [ 6.        ,  6.85714286],\n",
       "       [ 6.14285714,  6.89795918],\n",
       "       [ 6.28571429,  6.93877551],\n",
       "       [ 6.42857143,  6.97959184],\n",
       "       [ 6.57142857,  7.02040816],\n",
       "       [ 6.71428571,  7.06122449],\n",
       "       [ 6.85714286,  7.10204082],\n",
       "       [ 7.        ,  7.14285714],\n",
       "       [ 7.14285714,  7.18367347],\n",
       "       [ 7.28571429,  7.2244898 ],\n",
       "       [ 7.42857143,  7.26530612],\n",
       "       [ 7.57142857,  7.30612245],\n",
       "       [ 7.71428571,  7.34693878],\n",
       "       [ 7.85714286,  7.3877551 ],\n",
       "       [ 8.        ,  7.42857143],\n",
       "       [ 8.14285714,  7.46938776],\n",
       "       [ 8.28571429,  7.51020408],\n",
       "       [ 8.42857143,  7.55102041],\n",
       "       [ 8.57142857,  7.59183673],\n",
       "       [ 8.71428571,  7.63265306],\n",
       "       [ 8.85714286,  7.67346939],\n",
       "       [ 9.        ,  7.71428571],\n",
       "       [ 9.14285714,  7.75510204],\n",
       "       [ 9.28571429,  7.79591837],\n",
       "       [ 9.42857143,  7.83673469],\n",
       "       [ 9.57142857,  7.87755102],\n",
       "       [ 9.71428571,  7.91836735],\n",
       "       [ 9.85714286,  7.95918367],\n",
       "       [10.        ,  8.        ]])"
      ]
     },
     "execution_count": 30,
     "metadata": {},
     "output_type": "execute_result"
    }
   ],
   "source": [
    "X"
   ]
  },
  {
   "cell_type": "code",
   "execution_count": 31,
   "metadata": {},
   "outputs": [
    {
     "data": {
      "text/plain": [
       "<matplotlib.collections.PathCollection at 0x249183c44a8>"
      ]
     },
     "execution_count": 31,
     "metadata": {},
     "output_type": "execute_result"
    },
    {
     "data": {
      "image/png": "[encoded data removed]",
      "text/plain": [
       "<Figure size 432x288 with 1 Axes>"
      ]
     },
     "metadata": {
      "needs_background": "light"
     },
     "output_type": "display_data"
    }
   ],
   "source": [
    "plt.scatter(X[:,0], X[:,1])"
   ]
  },
  {
   "cell_type": "code",
   "execution_count": 32,
   "metadata": {},
   "outputs": [
    {
     "data": {
      "text/plain": [
       "<matplotlib.collections.PathCollection at 0x2491842dac8>"
      ]
     },
     "execution_count": 32,
     "metadata": {},
     "output_type": "execute_result"
    },
    {
     "data": {
      "image/png": "[encoded data removed]",
      "text/plain": [
       "<Figure size 432x288 with 1 Axes>"
      ]
     },
     "metadata": {
      "needs_background": "light"
     },
     "output_type": "display_data"
    }
   ],
   "source": [
    "x_list = np.linspace(3, 10, 50)\n",
    "y_list = np.linspace(6, 8, 50)\n",
    "X, Y = np.meshgrid(x_list, y_list)\n",
    "P = np.c_[X.ravel(), Y.ravel()]\n",
    "C = clf.predict(P)\n",
    "\n",
    "plt.scatter(P[:,0], P[:,1], c=C)"
   ]
  },
  {
   "cell_type": "code",
   "execution_count": 33,
   "metadata": {},
   "outputs": [
    {
     "data": {
      "text/plain": [
       "array([[ 3.        ,  3.14285714,  3.28571429, ...,  9.71428571,\n",
       "         9.85714286, 10.        ],\n",
       "       [ 3.        ,  3.14285714,  3.28571429, ...,  9.71428571,\n",
       "         9.85714286, 10.        ],\n",
       "       [ 3.        ,  3.14285714,  3.28571429, ...,  9.71428571,\n",
       "         9.85714286, 10.        ],\n",
       "       ...,\n",
       "       [ 3.        ,  3.14285714,  3.28571429, ...,  9.71428571,\n",
       "         9.85714286, 10.        ],\n",
       "       [ 3.        ,  3.14285714,  3.28571429, ...,  9.71428571,\n",
       "         9.85714286, 10.        ],\n",
       "       [ 3.        ,  3.14285714,  3.28571429, ...,  9.71428571,\n",
       "         9.85714286, 10.        ]])"
      ]
     },
     "execution_count": 33,
     "metadata": {},
     "output_type": "execute_result"
    }
   ],
   "source": [
    "X"
   ]
  },
  {
   "cell_type": "code",
   "execution_count": 34,
   "metadata": {},
   "outputs": [
    {
     "data": {
      "text/plain": [
       "array([ 3.        ,  3.14285714,  3.28571429, ...,  9.71428571,\n",
       "        9.85714286, 10.        ])"
      ]
     },
     "execution_count": 34,
     "metadata": {},
     "output_type": "execute_result"
    }
   ],
   "source": [
    "X.ravel() ###拉平"
   ]
  },
  {
   "cell_type": "markdown",
   "metadata": {},
   "source": [
    "## 插播 : contour用法 (等高線)"
   ]
  },
  {
   "cell_type": "code",
   "execution_count": 35,
   "metadata": {},
   "outputs": [],
   "source": [
    "xL = np.array([1,2,3,4])\n",
    "yL = np.array([5,6,7,8])\n",
    "X, Y = np.meshgrid(xL, yL)"
   ]
  },
  {
   "cell_type": "code",
   "execution_count": 36,
   "metadata": {},
   "outputs": [
    {
     "data": {
      "text/plain": [
       "array([[1, 2, 3, 4],\n",
       "       [1, 2, 3, 4],\n",
       "       [1, 2, 3, 4],\n",
       "       [1, 2, 3, 4]])"
      ]
     },
     "execution_count": 36,
     "metadata": {},
     "output_type": "execute_result"
    }
   ],
   "source": [
    "X"
   ]
  },
  {
   "cell_type": "code",
   "execution_count": 37,
   "metadata": {},
   "outputs": [
    {
     "data": {
      "text/plain": [
       "array([[5, 5, 5, 5],\n",
       "       [6, 6, 6, 6],\n",
       "       [7, 7, 7, 7],\n",
       "       [8, 8, 8, 8]])"
      ]
     },
     "execution_count": 37,
     "metadata": {},
     "output_type": "execute_result"
    }
   ],
   "source": [
    "Y"
   ]
  },
  {
   "cell_type": "code",
   "execution_count": 38,
   "metadata": {},
   "outputs": [],
   "source": [
    "Z = np.random.randint(1, 3, (4,4))"
   ]
  },
  {
   "cell_type": "code",
   "execution_count": 39,
   "metadata": {},
   "outputs": [
    {
     "data": {
      "text/plain": [
       "array([[1, 2, 1, 1],\n",
       "       [1, 2, 2, 1],\n",
       "       [2, 1, 1, 2],\n",
       "       [1, 1, 2, 1]])"
      ]
     },
     "execution_count": 39,
     "metadata": {},
     "output_type": "execute_result"
    }
   ],
   "source": [
    "Z"
   ]
  },
  {
   "cell_type": "code",
   "execution_count": 40,
   "metadata": {},
   "outputs": [
    {
     "data": {
      "text/plain": [
       "<matplotlib.collections.PathCollection at 0x249184be160>"
      ]
     },
     "execution_count": 40,
     "metadata": {},
     "output_type": "execute_result"
    },
    {
     "data": {
      "image/png": "[encoded data removed]",
      "text/plain": [
       "<Figure size 432x288 with 1 Axes>"
      ]
     },
     "metadata": {
      "needs_background": "light"
     },
     "output_type": "display_data"
    }
   ],
   "source": [
    "Z = np.random.randint(1, 3, (4,4))\n",
    "plt.contour(X, Y, Z)\n",
    "plt.scatter(X.ravel(), Y.ravel(), c=Z.ravel())"
   ]
  },
  {
   "cell_type": "code",
   "execution_count": 41,
   "metadata": {},
   "outputs": [
    {
     "data": {
      "text/plain": [
       "<matplotlib.collections.PathCollection at 0x24918546828>"
      ]
     },
     "execution_count": 41,
     "metadata": {},
     "output_type": "execute_result"
    },
    {
     "data": {
      "image/png": "[encoded data removed]",
      "text/plain": [
       "<Figure size 432x288 with 1 Axes>"
      ]
     },
     "metadata": {
      "needs_background": "light"
     },
     "output_type": "display_data"
    }
   ],
   "source": [
    "Z = np.random.randint(1, 3, (4,4))\n",
    "plt.contourf(X, Y, Z) ##加f會填滿\n",
    "plt.scatter(X.ravel(), Y.ravel(), c=Z.ravel())"
   ]
  },
  {
   "cell_type": "markdown",
   "metadata": {},
   "source": [
    "### 資料視覺化終極版"
   ]
  },
  {
   "cell_type": "code",
   "execution_count": 42,
   "metadata": {},
   "outputs": [],
   "source": [
    "x_arr = np.arange(3, 10, 0.02)  ##剛剛x的範圍為3~10\n",
    "y_arr = np.arange(6, 8, 0.02)   ##剛剛y的範圍為6~8\n",
    "X, Y = np.meshgrid(x_arr, y_arr)\n",
    "P = np.c_[X.ravel(), Y.ravel()]"
   ]
  },
  {
   "cell_type": "code",
   "execution_count": 43,
   "metadata": {},
   "outputs": [
    {
     "data": {
      "text/plain": [
       "array([[3.  , 6.  ],\n",
       "       [3.02, 6.  ],\n",
       "       [3.04, 6.  ],\n",
       "       ...,\n",
       "       [9.94, 7.98],\n",
       "       [9.96, 7.98],\n",
       "       [9.98, 7.98]])"
      ]
     },
     "execution_count": 43,
     "metadata": {},
     "output_type": "execute_result"
    }
   ],
   "source": [
    "P"
   ]
  },
  {
   "cell_type": "code",
   "execution_count": 44,
   "metadata": {},
   "outputs": [
    {
     "data": {
      "text/plain": [
       "array([1, 1, 1, ..., 2, 2, 2])"
      ]
     },
     "execution_count": 44,
     "metadata": {},
     "output_type": "execute_result"
    }
   ],
   "source": [
    "clf.predict(P)"
   ]
  },
  {
   "cell_type": "code",
   "execution_count": 45,
   "metadata": {},
   "outputs": [
    {
     "data": {
      "text/plain": [
       "(100, 350)"
      ]
     },
     "execution_count": 45,
     "metadata": {},
     "output_type": "execute_result"
    }
   ],
   "source": [
    "X.shape"
   ]
  },
  {
   "cell_type": "code",
   "execution_count": 46,
   "metadata": {},
   "outputs": [
    {
     "data": {
      "text/plain": [
       "<matplotlib.collections.PathCollection at 0x249185c9828>"
      ]
     },
     "execution_count": 46,
     "metadata": {},
     "output_type": "execute_result"
    },
    {
     "data": {
      "image/png": "[encoded data removed]",
      "text/plain": [
       "<Figure size 432x288 with 1 Axes>"
      ]
     },
     "metadata": {
      "needs_background": "light"
     },
     "output_type": "display_data"
    }
   ],
   "source": [
    "x_arr = np.arange(2.5, 10.5, 0.02)  ##剛剛x的範圍為3~10 可以更改\n",
    "y_arr = np.arange(5.5, 8.5, 0.02)   ##剛剛y的範圍為6~8  可以更改\n",
    "X, Y = np.meshgrid(x_arr, y_arr)\n",
    "P = np.c_[X.ravel(), Y.ravel()]\n",
    "z = clf.predict(P)\n",
    "Z = z.reshape(X.shape)\n",
    "\n",
    "plt.contourf(X, Y, Z, cmap=\"Paired\", alpha=0.3)  ##alpha為透明度\n",
    "plt.scatter(x[:,0], x[:,1], c=y, cmap=\"Paired\", s=150)"
   ]
  },
  {
   "cell_type": "markdown",
   "metadata": {},
   "source": [
    "## 鳶尾花數據庫"
   ]
  },
  {
   "cell_type": "code",
   "execution_count": 47,
   "metadata": {},
   "outputs": [],
   "source": [
    "from sklearn.datasets import load_iris"
   ]
  },
  {
   "cell_type": "code",
   "execution_count": 48,
   "metadata": {},
   "outputs": [],
   "source": [
    "iris = load_iris()"
   ]
  },
  {
   "cell_type": "code",
   "execution_count": 49,
   "metadata": {},
   "outputs": [
    {
     "name": "stdout",
     "output_type": "stream",
     "text": [
      ".. _iris_dataset:\n",
      "\n",
      "Iris plants dataset\n",
      "--------------------\n",
      "\n",
      "**Data Set Characteristics:**\n",
      "\n",
      "    :Number of Instances: 150 (50 in each of three classes)\n",
      "    :Number of Attributes: 4 numeric, predictive attributes and the class\n",
      "    :Attribute Information:\n",
      "        - sepal length in cm\n",
      "        - sepal width in cm\n",
      "        - petal length in cm\n",
      "        - petal width in cm\n",
      "        - class:\n",
      "                - Iris-Setosa\n",
      "                - Iris-Versicolour\n",
      "                - Iris-Virginica\n",
      "                \n",
      "    :Summary Statistics:\n",
      "\n",
      "    ============== ==== ==== ======= ===== ====================\n",
      "                    Min  Max   Mean    SD   Class Correlation\n",
      "    ============== ==== ==== ======= ===== ====================\n",
      "    sepal length:   4.3  7.9   5.84   0.83    0.7826\n",
      "    sepal width:    2.0  4.4   3.05   0.43   -0.4194\n",
      "    petal length:   1.0  6.9   3.76   1.76    0.9490  (high!)\n",
      "    petal width:    0.1  2.5   1.20   0.76    0.9565  (high!)\n",
      "    ============== ==== ==== ======= ===== ====================\n",
      "\n",
      "    :Missing Attribute Values: None\n",
      "    :Class Distribution: 33.3% for each of 3 classes.\n",
      "    :Creator: R.A. Fisher\n",
      "    :Donor: Michael Marshall (MARSHALL%PLU@io.arc.nasa.gov)\n",
      "    :Date: July, 1988\n",
      "\n",
      "The famous Iris database, first used by Sir R.A. Fisher. The dataset is taken\n",
      "from Fisher's paper. Note that it's the same as in R, but not as in the UCI\n",
      "Machine Learning Repository, which has two wrong data points.\n",
      "\n",
      "This is perhaps the best known database to be found in the\n",
      "pattern recognition literature.  Fisher's paper is a classic in the field and\n",
      "is referenced frequently to this day.  (See Duda & Hart, for example.)  The\n",
      "data set contains 3 classes of 50 instances each, where each class refers to a\n",
      "type of iris plant.  One class is linearly separable from the other 2; the\n",
      "latter are NOT linearly separable from each other.\n",
      "\n",
      ".. topic:: References\n",
      "\n",
      "   - Fisher, R.A. \"The use of multiple measurements in taxonomic problems\"\n",
      "     Annual Eugenics, 7, Part II, 179-188 (1936); also in \"Contributions to\n",
      "     Mathematical Statistics\" (John Wiley, NY, 1950).\n",
      "   - Duda, R.O., & Hart, P.E. (1973) Pattern Classification and Scene Analysis.\n",
      "     (Q327.D83) John Wiley & Sons.  ISBN 0-471-22361-1.  See page 218.\n",
      "   - Dasarathy, B.V. (1980) \"Nosing Around the Neighborhood: A New System\n",
      "     Structure and Classification Rule for Recognition in Partially Exposed\n",
      "     Environments\".  IEEE Transactions on Pattern Analysis and Machine\n",
      "     Intelligence, Vol. PAMI-2, No. 1, 67-71.\n",
      "   - Gates, G.W. (1972) \"The Reduced Nearest Neighbor Rule\".  IEEE Transactions\n",
      "     on Information Theory, May 1972, 431-433.\n",
      "   - See also: 1988 MLC Proceedings, 54-64.  Cheeseman et al\"s AUTOCLASS II\n",
      "     conceptual clustering system finds 3 classes in the data.\n",
      "   - Many, many more ...\n"
     ]
    }
   ],
   "source": [
    "print(iris.DESCR)"
   ]
  },
  {
   "cell_type": "code",
   "execution_count": 50,
   "metadata": {},
   "outputs": [],
   "source": [
    "x = iris.data\n",
    "y = iris.target"
   ]
  },
  {
   "cell_type": "code",
   "execution_count": 51,
   "metadata": {},
   "outputs": [
    {
     "data": {
      "text/plain": [
       "array([[5.1, 3.5, 1.4, 0.2],\n",
       "       [4.9, 3. , 1.4, 0.2],\n",
       "       [4.7, 3.2, 1.3, 0.2],\n",
       "       [4.6, 3.1, 1.5, 0.2],\n",
       "       [5. , 3.6, 1.4, 0.2]])"
      ]
     },
     "execution_count": 51,
     "metadata": {},
     "output_type": "execute_result"
    }
   ],
   "source": [
    "x[:5]"
   ]
  },
  {
   "cell_type": "code",
   "execution_count": 52,
   "metadata": {},
   "outputs": [
    {
     "data": {
      "text/plain": [
       "array([0, 0, 0, 0, 0])"
      ]
     },
     "execution_count": 52,
     "metadata": {},
     "output_type": "execute_result"
    }
   ],
   "source": [
    "y[:5]"
   ]
  },
  {
   "cell_type": "code",
   "execution_count": 53,
   "metadata": {},
   "outputs": [],
   "source": [
    "X = x[:, :2]"
   ]
  },
  {
   "cell_type": "code",
   "execution_count": 54,
   "metadata": {},
   "outputs": [],
   "source": [
    "Y = y"
   ]
  },
  {
   "cell_type": "code",
   "execution_count": 55,
   "metadata": {},
   "outputs": [
    {
     "data": {
      "text/plain": [
       "150"
      ]
     },
     "execution_count": 55,
     "metadata": {},
     "output_type": "execute_result"
    }
   ],
   "source": [
    "len(X)"
   ]
  },
  {
   "cell_type": "markdown",
   "metadata": {},
   "source": [
    "### 區分訓練資料、測試資料"
   ]
  },
  {
   "cell_type": "code",
   "execution_count": 56,
   "metadata": {},
   "outputs": [],
   "source": [
    "from sklearn.model_selection import train_test_split"
   ]
  },
  {
   "cell_type": "code",
   "execution_count": 57,
   "metadata": {},
   "outputs": [],
   "source": [
    "x_train, x_test, y_train, y_test = train_test_split(X, Y,\n",
    "                                                   test_size = 0.2,\n",
    "                                                   random_state = 0)"
   ]
  },
  {
   "cell_type": "code",
   "execution_count": 58,
   "metadata": {},
   "outputs": [
    {
     "data": {
      "text/plain": [
       "<matplotlib.collections.PathCollection at 0x249186ed2e8>"
      ]
     },
     "execution_count": 58,
     "metadata": {},
     "output_type": "execute_result"
    },
    {
     "data": {
      "image/png": "[encoded data removed]",
      "text/plain": [
       "<Figure size 432x288 with 1 Axes>"
      ]
     },
     "metadata": {
      "needs_background": "light"
     },
     "output_type": "display_data"
    }
   ],
   "source": [
    "plt.scatter(X[:,0], X[:,1], c=Y, cmap=\"Paired\")"
   ]
  },
  {
   "cell_type": "markdown",
   "metadata": {},
   "source": [
    "### Step 1. 開一台函數學習機"
   ]
  },
  {
   "cell_type": "code",
   "execution_count": 59,
   "metadata": {},
   "outputs": [],
   "source": [
    "clf = SVC(gamma=\"auto\")"
   ]
  },
  {
   "cell_type": "markdown",
   "metadata": {},
   "source": [
    "### Step 2. 訓練"
   ]
  },
  {
   "cell_type": "code",
   "execution_count": 60,
   "metadata": {},
   "outputs": [
    {
     "data": {
      "text/plain": [
       "SVC(C=1.0, cache_size=200, class_weight=None, coef0=0.0,\n",
       "    decision_function_shape='ovr', degree=3, gamma='auto', kernel='rbf',\n",
       "    max_iter=-1, probability=False, random_state=None, shrinking=True,\n",
       "    tol=0.001, verbose=False)"
      ]
     },
     "execution_count": 60,
     "metadata": {},
     "output_type": "execute_result"
    }
   ],
   "source": [
    "clf.fit(x_train, y_train)"
   ]
  },
  {
   "cell_type": "markdown",
   "metadata": {},
   "source": [
    "### Step 3. 預測"
   ]
  },
  {
   "cell_type": "code",
   "execution_count": 61,
   "metadata": {},
   "outputs": [],
   "source": [
    "y_predict = clf.predict(x_test)"
   ]
  },
  {
   "cell_type": "code",
   "execution_count": 62,
   "metadata": {},
   "outputs": [
    {
     "data": {
      "text/plain": [
       "array([1, 1, 0, 2, 0, 2, 0, 2, 2, 2, 1, 2, 2, 2, 2, 0, 1, 1, 0, 0, 1, 1,\n",
       "       0, 0, 2, 0, 0, 2, 1, 0])"
      ]
     },
     "execution_count": 62,
     "metadata": {},
     "output_type": "execute_result"
    }
   ],
   "source": [
    "y_predict"
   ]
  },
  {
   "cell_type": "code",
   "execution_count": 63,
   "metadata": {},
   "outputs": [
    {
     "data": {
      "text/plain": [
       "array([2, 1, 0, 2, 0, 2, 0, 1, 1, 1, 2, 1, 1, 1, 1, 0, 1, 1, 0, 0, 2, 1,\n",
       "       0, 0, 2, 0, 0, 1, 1, 0])"
      ]
     },
     "execution_count": 63,
     "metadata": {},
     "output_type": "execute_result"
    }
   ],
   "source": [
    "y_test"
   ]
  },
  {
   "cell_type": "code",
   "execution_count": 64,
   "metadata": {},
   "outputs": [
    {
     "data": {
      "text/plain": [
       "array([-1,  0,  0,  0,  0,  0,  0,  1,  1,  1, -1,  1,  1,  1,  1,  0,  0,\n",
       "        0,  0,  0, -1,  0,  0,  0,  0,  0,  0,  1,  0,  0])"
      ]
     },
     "execution_count": 64,
     "metadata": {},
     "output_type": "execute_result"
    }
   ],
   "source": [
    "y_predict - y_test"
   ]
  },
  {
   "cell_type": "code",
   "execution_count": 65,
   "metadata": {},
   "outputs": [
    {
     "data": {
      "text/plain": [
       "<matplotlib.collections.PathCollection at 0x2491874ce80>"
      ]
     },
     "execution_count": 65,
     "metadata": {},
     "output_type": "execute_result"
    },
    {
     "data": {
      "image/png": "[encoded data removed]",
      "text/plain": [
       "<Figure size 432x288 with 1 Axes>"
      ]
     },
     "metadata": {
      "needs_background": "light"
     },
     "output_type": "display_data"
    }
   ],
   "source": [
    "plt.scatter(x_test[:,0], x_test[:,1], c = y_predict - y_test)"
   ]
  },
  {
   "cell_type": "code",
   "execution_count": 66,
   "metadata": {},
   "outputs": [
    {
     "data": {
      "text/plain": [
       "<matplotlib.contour.QuadContourSet at 0x249187b9828>"
      ]
     },
     "execution_count": 66,
     "metadata": {},
     "output_type": "execute_result"
    },
    {
     "data": {
      "image/png": "[encoded data removed]",
      "text/plain": [
       "<Figure size 432x288 with 1 Axes>"
      ]
     },
     "metadata": {
      "needs_background": "light"
     },
     "output_type": "display_data"
    }
   ],
   "source": [
    "x0 = np.arange(3.8, 8.2, 0.02)\n",
    "y0 = np.arange(1.8, 4.7, 0.02)\n",
    "\n",
    "xm, ym = np.meshgrid(x0, y0)\n",
    "P = np.c_[xm.ravel(), ym.ravel()]\n",
    "z = clf.predict(P)\n",
    "\n",
    "Z = z.reshape(xm.shape)\n",
    "plt.contourf(xm, ym, Z, cmap=\"Paired\", alpha = 0.3)"
   ]
  },
  {
   "cell_type": "code",
   "execution_count": null,
   "metadata": {},
   "outputs": [],
   "source": []
  }
 ],
 "metadata": {
  "kernelspec": {
   "display_name": "Python 3",
   "language": "python",
   "name": "python3"
  },
  "language_info": {
   "codemirror_mode": {
    "name": "ipython",
    "version": 3
   },
   "file_extension": ".py",
   "mimetype": "text/x-python",
   "name": "python",
   "nbconvert_exporter": "python",
   "pygments_lexer": "ipython3",
   "version": "3.7.3"
  }
 },
 "nbformat": 4,
 "nbformat_minor": 2
}
