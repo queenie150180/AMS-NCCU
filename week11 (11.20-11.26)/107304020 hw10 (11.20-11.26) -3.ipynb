{
 "cells": [
  {
   "cell_type": "code",
   "execution_count": 4,
   "metadata": {},
   "outputs": [
    {
     "name": "stdout",
     "output_type": "stream",
     "text": [
      "請輸入體重(公斤):50\n",
      "請輸入身高(公分):166\n",
      "你的體重為:\n",
      "18.144868631151112\n"
     ]
    }
   ],
   "source": [
    "a = int(input(\"請輸入體重(公斤):\"))\n",
    "b = int(input(\"請輸入身高(公分):\"))\n",
    "b1 = b/100\n",
    "\n",
    "BMI = a/(b1**2)\n",
    "print(\"你的體重為:\")\n",
    "print(BMI)"
   ]
  },
  {
   "cell_type": "code",
   "execution_count": null,
   "metadata": {},
   "outputs": [],
   "source": []
  }
 ],
 "metadata": {
  "kernelspec": {
   "display_name": "Python 3",
   "language": "python",
   "name": "python3"
  },
  "language_info": {
   "codemirror_mode": {
    "name": "ipython",
    "version": 3
   },
   "file_extension": ".py",
   "mimetype": "text/x-python",
   "name": "python",
   "nbconvert_exporter": "python",
   "pygments_lexer": "ipython3",
   "version": "3.7.3"
  }
 },
 "nbformat": 4,
 "nbformat_minor": 2
}
